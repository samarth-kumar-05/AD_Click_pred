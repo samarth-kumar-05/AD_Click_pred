{
 "cells": [
  {
   "cell_type": "code",
   "execution_count": 3,
   "id": "09e68055",
   "metadata": {},
   "outputs": [],
   "source": [
    "import warnings\n",
    "warnings.filterwarnings('ignore')"
   ]
  },
  {
   "cell_type": "code",
   "execution_count": 4,
   "id": "bb7a7c44",
   "metadata": {},
   "outputs": [
    {
     "name": "stdout",
     "output_type": "stream",
     "text": [
      "Shape before deleting duplicates (6657, 14)\n",
      "Shape after deleting duplicates (6657, 14)\n"
     ]
    },
    {
     "data": {
      "text/html": [
       "<div>\n",
       "<style scoped>\n",
       "    .dataframe tbody tr th:only-of-type {\n",
       "        vertical-align: middle;\n",
       "    }\n",
       "\n",
       "    .dataframe tbody tr th {\n",
       "        vertical-align: top;\n",
       "    }\n",
       "\n",
       "    .dataframe thead th {\n",
       "        text-align: right;\n",
       "    }\n",
       "</style>\n",
       "<table border=\"1\" class=\"dataframe\">\n",
       "  <thead>\n",
       "    <tr style=\"text-align: right;\">\n",
       "      <th></th>\n",
       "      <th>VistID</th>\n",
       "      <th>Time_Spent</th>\n",
       "      <th>Age</th>\n",
       "      <th>Avg_Income</th>\n",
       "      <th>Internet_Usage</th>\n",
       "      <th>Ad_Topic</th>\n",
       "      <th>Country_Name</th>\n",
       "      <th>City_code</th>\n",
       "      <th>Male</th>\n",
       "      <th>Time_Period</th>\n",
       "      <th>Weekday</th>\n",
       "      <th>Month</th>\n",
       "      <th>Year</th>\n",
       "      <th>Clicked</th>\n",
       "    </tr>\n",
       "  </thead>\n",
       "  <tbody>\n",
       "    <tr>\n",
       "      <th>0</th>\n",
       "      <td>5183153</td>\n",
       "      <td>87.97</td>\n",
       "      <td>43</td>\n",
       "      <td>55901.12</td>\n",
       "      <td>185.46</td>\n",
       "      <td>product_11</td>\n",
       "      <td>Serbia</td>\n",
       "      <td>City_5</td>\n",
       "      <td>No</td>\n",
       "      <td>Mid-Night</td>\n",
       "      <td>Thursday</td>\n",
       "      <td>July</td>\n",
       "      <td>2020</td>\n",
       "      <td>0</td>\n",
       "    </tr>\n",
       "    <tr>\n",
       "      <th>1</th>\n",
       "      <td>4023265</td>\n",
       "      <td>51.63</td>\n",
       "      <td>50</td>\n",
       "      <td>39132.00</td>\n",
       "      <td>176.73</td>\n",
       "      <td>product_8</td>\n",
       "      <td>Turkmenistan</td>\n",
       "      <td>City_1</td>\n",
       "      <td>No</td>\n",
       "      <td>Evening</td>\n",
       "      <td>Saturday</td>\n",
       "      <td>June</td>\n",
       "      <td>2020</td>\n",
       "      <td>1</td>\n",
       "    </tr>\n",
       "    <tr>\n",
       "      <th>2</th>\n",
       "      <td>4708083</td>\n",
       "      <td>82.37</td>\n",
       "      <td>38</td>\n",
       "      <td>57032.36</td>\n",
       "      <td>210.60</td>\n",
       "      <td>product_6</td>\n",
       "      <td>Northern Mariana Islands</td>\n",
       "      <td>City_2</td>\n",
       "      <td>No</td>\n",
       "      <td>Morning</td>\n",
       "      <td>Tuesday</td>\n",
       "      <td>January</td>\n",
       "      <td>2020</td>\n",
       "      <td>0</td>\n",
       "    </tr>\n",
       "    <tr>\n",
       "      <th>3</th>\n",
       "      <td>9771815</td>\n",
       "      <td>62.06</td>\n",
       "      <td>45</td>\n",
       "      <td>48868.00</td>\n",
       "      <td>190.05</td>\n",
       "      <td>product_19</td>\n",
       "      <td>South Africa</td>\n",
       "      <td>City_3</td>\n",
       "      <td>Yes</td>\n",
       "      <td>Morning</td>\n",
       "      <td>Thursday</td>\n",
       "      <td>April</td>\n",
       "      <td>2020</td>\n",
       "      <td>1</td>\n",
       "    </tr>\n",
       "    <tr>\n",
       "      <th>4</th>\n",
       "      <td>6451317</td>\n",
       "      <td>77.66</td>\n",
       "      <td>31</td>\n",
       "      <td>61608.23</td>\n",
       "      <td>204.86</td>\n",
       "      <td>product_11</td>\n",
       "      <td>Guadeloupe</td>\n",
       "      <td>City_2</td>\n",
       "      <td>No</td>\n",
       "      <td>Noon</td>\n",
       "      <td>Thursday</td>\n",
       "      <td>January</td>\n",
       "      <td>2020</td>\n",
       "      <td>0</td>\n",
       "    </tr>\n",
       "  </tbody>\n",
       "</table>\n",
       "</div>"
      ],
      "text/plain": [
       "    VistID  Time_Spent  Age  Avg_Income  Internet_Usage    Ad_Topic  \\\n",
       "0  5183153       87.97   43    55901.12          185.46  product_11   \n",
       "1  4023265       51.63   50    39132.00          176.73   product_8   \n",
       "2  4708083       82.37   38    57032.36          210.60   product_6   \n",
       "3  9771815       62.06   45    48868.00          190.05  product_19   \n",
       "4  6451317       77.66   31    61608.23          204.86  product_11   \n",
       "\n",
       "               Country_Name City_code Male Time_Period   Weekday    Month  \\\n",
       "0                    Serbia    City_5   No   Mid-Night  Thursday     July   \n",
       "1              Turkmenistan    City_1   No     Evening  Saturday     June   \n",
       "2  Northern Mariana Islands    City_2   No     Morning   Tuesday  January   \n",
       "3              South Africa    City_3  Yes     Morning  Thursday    April   \n",
       "4                Guadeloupe    City_2   No        Noon  Thursday  January   \n",
       "\n",
       "   Year  Clicked  \n",
       "0  2020        0  \n",
       "1  2020        1  \n",
       "2  2020        0  \n",
       "3  2020        1  \n",
       "4  2020        0  "
      ]
     },
     "execution_count": 4,
     "metadata": {},
     "output_type": "execute_result"
    }
   ],
   "source": [
    "#reading the dataset\n",
    "import pandas as pd\n",
    "import numpy as np\n",
    "\n",
    "AdClickData = pd.read_csv('G:\\ML PROJECTS\\AD Click Predictor\\Ad click Data.csv')\n",
    "print('Shape before deleting duplicates', AdClickData.shape)\n",
    "\n",
    "AdClickData = AdClickData.drop_duplicates()\n",
    "print('Shape after deleting duplicates', AdClickData.shape)\n",
    "\n",
    "AdClickData.head()"
   ]
  },
  {
   "cell_type": "markdown",
   "id": "d95982bc",
   "metadata": {},
   "source": [
    "Determining the type of Machine Learning\n",
    "Based on the problem statement you can understand that we need to create a supervised ML classification model, as the target variable is categorical.\n",
    "\n"
   ]
  },
  {
   "cell_type": "code",
   "execution_count": null,
   "id": "f118a80a",
   "metadata": {},
   "outputs": [],
   "source": []
  },
  {
   "cell_type": "markdown",
   "id": "9d831d7e",
   "metadata": {},
   "source": [
    "**Looking at the distribution of Target variable**\n"
   ]
  },
  {
   "cell_type": "code",
   "execution_count": 5,
   "id": "cb652837",
   "metadata": {},
   "outputs": [
    {
     "data": {
      "text/plain": [
       "<AxesSubplot:xlabel='Clicked'>"
      ]
     },
     "execution_count": 5,
     "metadata": {},
     "output_type": "execute_result"
    },
    {
     "data": {
      "image/png": "[encoded data removed]",
      "text/plain": [
       "<Figure size 288x216 with 1 Axes>"
      ]
     },
     "metadata": {
      "needs_background": "light"
     },
     "output_type": "display_data"
    }
   ],
   "source": [
    "%matplotlib inline\n",
    "\n",
    "GroupedData = AdClickData.groupby('Clicked').size()\n",
    "GroupedData.plot(kind='bar',figsize=(4,3))"
   ]
  },
  {
   "cell_type": "markdown",
   "id": "4215b3a5",
   "metadata": {},
   "source": [
    "The Target variable data looks balanced to we can go ahead\n"
   ]
  },
  {
   "cell_type": "markdown",
   "id": "ae2987e6",
   "metadata": {},
   "source": [
    "**Basic Data Exploration**\n"
   ]
  },
  {
   "cell_type": "code",
   "execution_count": 6,
   "id": "33c8f7ef",
   "metadata": {},
   "outputs": [
    {
     "name": "stdout",
     "output_type": "stream",
     "text": [
      "<class 'pandas.core.frame.DataFrame'>\n",
      "Int64Index: 6657 entries, 0 to 6656\n",
      "Data columns (total 14 columns):\n",
      " #   Column          Non-Null Count  Dtype  \n",
      "---  ------          --------------  -----  \n",
      " 0   VistID          6657 non-null   int64  \n",
      " 1   Time_Spent      6657 non-null   float64\n",
      " 2   Age             6657 non-null   int64  \n",
      " 3   Avg_Income      6657 non-null   float64\n",
      " 4   Internet_Usage  6657 non-null   float64\n",
      " 5   Ad_Topic        6657 non-null   object \n",
      " 6   Country_Name    6657 non-null   object \n",
      " 7   City_code       6657 non-null   object \n",
      " 8   Male            6657 non-null   object \n",
      " 9   Time_Period     6657 non-null   object \n",
      " 10  Weekday         6657 non-null   object \n",
      " 11  Month           6657 non-null   object \n",
      " 12  Year            6657 non-null   int64  \n",
      " 13  Clicked         6657 non-null   int64  \n",
      "dtypes: float64(3), int64(4), object(7)\n",
      "memory usage: 780.1+ KB\n"
     ]
    }
   ],
   "source": [
    "AdClickData.info()"
   ]
  },
  {
   "cell_type": "code",
   "execution_count": 7,
   "id": "76a6d54d",
   "metadata": {},
   "outputs": [
    {
     "data": {
      "text/plain": [
       "VistID            6657\n",
       "Time_Spent         900\n",
       "Age                 43\n",
       "Avg_Income        1487\n",
       "Internet_Usage     966\n",
       "Ad_Topic            30\n",
       "Country_Name       237\n",
       "City_code            9\n",
       "Male                 2\n",
       "Time_Period          6\n",
       "Weekday              7\n",
       "Month                7\n",
       "Year                 1\n",
       "Clicked              2\n",
       "dtype: int64"
      ]
     },
     "execution_count": 7,
     "metadata": {},
     "output_type": "execute_result"
    }
   ],
   "source": [
    "AdClickData.nunique()"
   ]
  },
  {
   "cell_type": "code",
   "execution_count": 9,
   "id": "2872532c",
   "metadata": {},
   "outputs": [],
   "source": [
    "# Finging unique values for each column\n",
    "# TO understand which column is categorical and which one is Continuous\n",
    "# Typically if the numer of unique values are < 20 then the variable is \n",
    "# likely to be a category otherwise continuous"
   ]
  },
  {
   "cell_type": "markdown",
   "id": "339754de",
   "metadata": {},
   "source": [
    "***Basic Data Exploration Results***\n",
    "Based on the basic exploration above, you can now create a simple report of the data, noting down your observations regaring each column. Hence, creating a initial roadmap for further analysis.\n",
    "\n",
    "The selected columns in this step are not final, further study will be done and then a final list will be created\n",
    "\n",
    "VistID: Qualitative. Rejected. This column does not affect the ad click\n",
    "Time_Spent: Continuous. Selected.\n",
    "Age: Continuous. Selected.\n",
    "Area_Income: Continuous. Selected.\n",
    "Internet_Usage: Continuous. Selected.\n",
    "Ad_Topic: Categorical. Selected.\n",
    "Country_Name: Qualitative. Rejected. This column has very high cardinality\n",
    "City_Code: Categorical. Selected.\n",
    "Male: Categorical. Selected.\n",
    "Time_Period: Categorical. Selected.\n",
    "    \n",
    "Weekday: Categorical. Selected.\n",
    "Month: Categorical. Selected.\n",
    "Year: Qualitative. Rejected. This column does not affect the ad click.\n",
    "Clicked: Categorical. Selected. This is the Target Variable!"
   ]
  },
  {
   "cell_type": "markdown",
   "id": "8e2a00e3",
   "metadata": {},
   "source": [
    "**Removing rejected columns\n"
   ]
  },
  {
   "cell_type": "code",
   "execution_count": 8,
   "id": "449814e1",
   "metadata": {},
   "outputs": [
    {
     "data": {
      "text/html": [
       "<div>\n",
       "<style scoped>\n",
       "    .dataframe tbody tr th:only-of-type {\n",
       "        vertical-align: middle;\n",
       "    }\n",
       "\n",
       "    .dataframe tbody tr th {\n",
       "        vertical-align: top;\n",
       "    }\n",
       "\n",
       "    .dataframe thead th {\n",
       "        text-align: right;\n",
       "    }\n",
       "</style>\n",
       "<table border=\"1\" class=\"dataframe\">\n",
       "  <thead>\n",
       "    <tr style=\"text-align: right;\">\n",
       "      <th></th>\n",
       "      <th>Time_Spent</th>\n",
       "      <th>Age</th>\n",
       "      <th>Avg_Income</th>\n",
       "      <th>Internet_Usage</th>\n",
       "      <th>Ad_Topic</th>\n",
       "      <th>City_code</th>\n",
       "      <th>Male</th>\n",
       "      <th>Time_Period</th>\n",
       "      <th>Weekday</th>\n",
       "      <th>Month</th>\n",
       "      <th>Clicked</th>\n",
       "    </tr>\n",
       "  </thead>\n",
       "  <tbody>\n",
       "    <tr>\n",
       "      <th>0</th>\n",
       "      <td>87.97</td>\n",
       "      <td>43</td>\n",
       "      <td>55901.12</td>\n",
       "      <td>185.46</td>\n",
       "      <td>product_11</td>\n",
       "      <td>City_5</td>\n",
       "      <td>No</td>\n",
       "      <td>Mid-Night</td>\n",
       "      <td>Thursday</td>\n",
       "      <td>July</td>\n",
       "      <td>0</td>\n",
       "    </tr>\n",
       "    <tr>\n",
       "      <th>1</th>\n",
       "      <td>51.63</td>\n",
       "      <td>50</td>\n",
       "      <td>39132.00</td>\n",
       "      <td>176.73</td>\n",
       "      <td>product_8</td>\n",
       "      <td>City_1</td>\n",
       "      <td>No</td>\n",
       "      <td>Evening</td>\n",
       "      <td>Saturday</td>\n",
       "      <td>June</td>\n",
       "      <td>1</td>\n",
       "    </tr>\n",
       "    <tr>\n",
       "      <th>2</th>\n",
       "      <td>82.37</td>\n",
       "      <td>38</td>\n",
       "      <td>57032.36</td>\n",
       "      <td>210.60</td>\n",
       "      <td>product_6</td>\n",
       "      <td>City_2</td>\n",
       "      <td>No</td>\n",
       "      <td>Morning</td>\n",
       "      <td>Tuesday</td>\n",
       "      <td>January</td>\n",
       "      <td>0</td>\n",
       "    </tr>\n",
       "    <tr>\n",
       "      <th>3</th>\n",
       "      <td>62.06</td>\n",
       "      <td>45</td>\n",
       "      <td>48868.00</td>\n",
       "      <td>190.05</td>\n",
       "      <td>product_19</td>\n",
       "      <td>City_3</td>\n",
       "      <td>Yes</td>\n",
       "      <td>Morning</td>\n",
       "      <td>Thursday</td>\n",
       "      <td>April</td>\n",
       "      <td>1</td>\n",
       "    </tr>\n",
       "    <tr>\n",
       "      <th>4</th>\n",
       "      <td>77.66</td>\n",
       "      <td>31</td>\n",
       "      <td>61608.23</td>\n",
       "      <td>204.86</td>\n",
       "      <td>product_11</td>\n",
       "      <td>City_2</td>\n",
       "      <td>No</td>\n",
       "      <td>Noon</td>\n",
       "      <td>Thursday</td>\n",
       "      <td>January</td>\n",
       "      <td>0</td>\n",
       "    </tr>\n",
       "  </tbody>\n",
       "</table>\n",
       "</div>"
      ],
      "text/plain": [
       "   Time_Spent  Age  Avg_Income  Internet_Usage    Ad_Topic City_code Male  \\\n",
       "0       87.97   43    55901.12          185.46  product_11    City_5   No   \n",
       "1       51.63   50    39132.00          176.73   product_8    City_1   No   \n",
       "2       82.37   38    57032.36          210.60   product_6    City_2   No   \n",
       "3       62.06   45    48868.00          190.05  product_19    City_3  Yes   \n",
       "4       77.66   31    61608.23          204.86  product_11    City_2   No   \n",
       "\n",
       "  Time_Period   Weekday    Month  Clicked  \n",
       "0   Mid-Night  Thursday     July        0  \n",
       "1     Evening  Saturday     June        1  \n",
       "2     Morning   Tuesday  January        0  \n",
       "3     Morning  Thursday    April        1  \n",
       "4        Noon  Thursday  January        0  "
      ]
     },
     "execution_count": 8,
     "metadata": {},
     "output_type": "execute_result"
    }
   ],
   "source": [
    "UselessColumns = [\"VistID\", \"Country_Name\" , \"Year\"]\n",
    "AdClickData = AdClickData.drop(UselessColumns,axis=1)\n",
    "AdClickData.head()\n"
   ]
  },
  {
   "cell_type": "markdown",
   "id": "baddcce5",
   "metadata": {},
   "source": [
    "***Visualize distribution of all the Categorical Predictor variables in the data using bar plots***\n",
    "\n",
    "Categorical Predictors: \"Ad_Topic\", \"City_code\", \"Male\" ,\"Time_Period\", \"Weekday\", \"Month\""
   ]
  },
  {
   "cell_type": "code",
   "execution_count": 9,
   "id": "e79ba3ad",
   "metadata": {},
   "outputs": [
    {
     "data": {
      "image/png": "[encoded data removed]",
      "text/plain": [
       "<Figure size 2880x432 with 6 Axes>"
      ]
     },
     "metadata": {
      "needs_background": "light"
     },
     "output_type": "display_data"
    }
   ],
   "source": [
    "#defining a function to print multiple bar plots at once\n",
    "def PlotBarCharts(inpdata,colsToPlots):\n",
    "    %matplotlib inline\n",
    "    \n",
    "    import matplotlib.pyplot as plt\n",
    "    # Generating multiple subplots\n",
    "    fig, subPlot=plt.subplots(nrows=1, ncols=len(colsToPlots), figsize=(40,6))\n",
    "    fig.suptitle('Bar charts of: '+ str(colsToPlots))\n",
    "\n",
    "    for colName, plotNumber in zip(colsToPlots, range(len(colsToPlots))):\n",
    "        inpdata.groupby(colName).size().plot(kind='bar',ax=subPlot[plotNumber])\n",
    "#calling the function\n",
    "PlotBarCharts(inpdata=AdClickData, colsToPlots=[\"Ad_Topic\",\"City_code\", \"Male\",\n",
    "                                               \"Time_Period\", \"Weekday\",\"Month\"])"
   ]
  },
  {
   "cell_type": "markdown",
   "id": "8248d100",
   "metadata": {},
   "source": [
    "There is no columns that is too skewed every columns have balanced bar plots so we using all the categorical colums\n"
   ]
  },
  {
   "cell_type": "markdown",
   "id": "df3e9b08",
   "metadata": {},
   "source": [
    "***Visualize distribution of all the Continuous Predictor variables in the data using histograms***\n",
    "Based on the Basic Data Exploration, Four continuous predictor variables were found \"Time_Spent\", \"Age\", \"Avg_Income\" and \"Internet_Usage\"\n"
   ]
  },
  {
   "cell_type": "code",
   "execution_count": 10,
   "id": "d763762a",
   "metadata": {},
   "outputs": [
    {
     "data": {
      "text/plain": [
       "array([[<AxesSubplot:title={'center':'Time_Spent'}>,\n",
       "        <AxesSubplot:title={'center':'Age'}>],\n",
       "       [<AxesSubplot:title={'center':'Avg_Income'}>,\n",
       "        <AxesSubplot:title={'center':'Internet_Usage'}>]], dtype=object)"
      ]
     },
     "execution_count": 10,
     "metadata": {},
     "output_type": "execute_result"
    },
    {
     "data": {
      "image/png": "[encoded data removed]",
      "text/plain": [
       "<Figure size 1296x720 with 4 Axes>"
      ]
     },
     "metadata": {
      "needs_background": "light"
     },
     "output_type": "display_data"
    }
   ],
   "source": [
    "#plotting histogram for different colums\n",
    "AdClickData.hist(['Time_Spent','Age','Avg_Income','Internet_Usage'],figsize=(18,10))\n"
   ]
  },
  {
   "cell_type": "markdown",
   "id": "84f2b892",
   "metadata": {},
   "source": [
    "Selected Continuous Variables:\n",
    "\n",
    "Time_Spent : Selected.\n",
    "Age: Selected.\n",
    "Avg_Income: Selected. Slightly negative skewed distribution, acceptable.\n",
    "Internet_Usage: Selected.\n"
   ]
  },
  {
   "cell_type": "markdown",
   "id": "1ba0b159",
   "metadata": {},
   "source": [
    "***Checking for any missing value and fixing it***\n"
   ]
  },
  {
   "cell_type": "code",
   "execution_count": 11,
   "id": "f55cae50",
   "metadata": {},
   "outputs": [
    {
     "data": {
      "text/plain": [
       "Time_Spent        0\n",
       "Age               0\n",
       "Avg_Income        0\n",
       "Internet_Usage    0\n",
       "Ad_Topic          0\n",
       "City_code         0\n",
       "Male              0\n",
       "Time_Period       0\n",
       "Weekday           0\n",
       "Month             0\n",
       "Clicked           0\n",
       "dtype: int64"
      ]
     },
     "execution_count": 11,
     "metadata": {},
     "output_type": "execute_result"
    }
   ],
   "source": [
    "AdClickData.isnull().sum()"
   ]
  },
  {
   "cell_type": "markdown",
   "id": "86037eb7",
   "metadata": {},
   "source": [
    "In this data none of the columns have any missing values hence missing value treatment is not required.\n"
   ]
  },
  {
   "cell_type": "markdown",
   "id": "3d2704bc",
   "metadata": {},
   "source": [
    "****Feature Selection****\n",
    "Statistical measurement of relationship strength between variables\n",
    "Continuous Vs Continuous ---- Correlation matrix\n",
    "Categorical Vs Continuous---- ANOVA test\n",
    "Categorical Vs Categorical--- Chi-Square test\n"
   ]
  },
  {
   "cell_type": "markdown",
   "id": "aeca75e9",
   "metadata": {},
   "source": [
    "\n",
    "In this case study the Target variable is categorical, hence below two scenarios will be present\n",
    "\n",
    "Categorical Target Variable Vs Continuous Predictor\n",
    "Categorical Target Variable Vs Categorical Predictor"
   ]
  },
  {
   "cell_type": "markdown",
   "id": "2542bbfb",
   "metadata": {},
   "source": [
    "***Statistical Feature Selection (Categorical Vs Continuous) using ANOVA test***\n"
   ]
  },
  {
   "cell_type": "code",
   "execution_count": 12,
   "id": "5fd8d75c",
   "metadata": {},
   "outputs": [],
   "source": [
    "# Defining a function to find the statistical relationship with all the categorical variables\n",
    "def FunctionAnova(inpData, TargetVariable, ContinuousPredictorList):\n",
    "    from scipy.stats import f_oneway\n",
    "\n",
    "    # Creating an empty list of final selected predictors\n",
    "    SelectedPredictors=[]\n",
    "    \n",
    "    print('##### ANOVA Results ##### \\n')\n",
    "    for predictor in ContinuousPredictorList:\n",
    "        CategoryGroupLists=inpData.groupby(TargetVariable)[predictor].apply(list)\n",
    "        AnovaResults = f_oneway(*CategoryGroupLists)\n",
    "        \n",
    "        # If the ANOVA P-Value is <0.05, that means we reject H0\n",
    "        if (AnovaResults[1] < 0.05):\n",
    "            print(predictor, 'is correlated with', TargetVariable, '| P-Value:', AnovaResults[1])\n",
    "            SelectedPredictors.append(predictor)\n",
    "        else:\n",
    "            print(predictor, 'is NOT correlated with', TargetVariable, '| P-Value:', AnovaResults[1])\n",
    "    \n",
    "    return(SelectedPredictors)"
   ]
  },
  {
   "cell_type": "code",
   "execution_count": 13,
   "id": "f78f0544",
   "metadata": {},
   "outputs": [
    {
     "name": "stdout",
     "output_type": "stream",
     "text": [
      "##### ANOVA Results ##### \n",
      "\n",
      "Time_Spent is correlated with Clicked | P-Value: 0.0\n",
      "Age is correlated with Clicked | P-Value: 6.40789044460054e-91\n",
      "Avg_Income is correlated with Clicked | P-Value: 0.0\n",
      "Internet_Usage is correlated with Clicked | P-Value: 0.0\n"
     ]
    },
    {
     "data": {
      "text/plain": [
       "['Time_Spent', 'Age', 'Avg_Income', 'Internet_Usage']"
      ]
     },
     "execution_count": 13,
     "metadata": {},
     "output_type": "execute_result"
    }
   ],
   "source": [
    "# Calling the function to check which categorical variables are correlated with target\n",
    "ContinuousVariables=[\"Time_Spent\", \"Age\", \"Avg_Income\", \"Internet_Usage\"]\n",
    "FunctionAnova(inpData=AdClickData, TargetVariable='Clicked', ContinuousPredictorList=ContinuousVariables)"
   ]
  },
  {
   "cell_type": "markdown",
   "id": "eba996cb",
   "metadata": {},
   "source": [
    "ANOVA test shows all Four columns are correlated with Clicked (Target Variable).\n"
   ]
  },
  {
   "cell_type": "code",
   "execution_count": null,
   "id": "9619483b",
   "metadata": {},
   "outputs": [],
   "source": []
  },
  {
   "cell_type": "markdown",
   "id": "0ec32a8a",
   "metadata": {},
   "source": [
    "***Statistical Feature Selection (Categorical Vs Categorical) using Chi-Square Test***\n"
   ]
  },
  {
   "cell_type": "code",
   "execution_count": 14,
   "id": "c4fc00ba",
   "metadata": {},
   "outputs": [],
   "source": [
    "# Writing a function to find the correlation of all categorical variables with the Target variable\n",
    "def FunctionChisq(inpData, TargetVariable, CategoricalVariablesList):\n",
    "    from scipy.stats import chi2_contingency\n",
    "    \n",
    "    # Creating an empty list of final selected predictors\n",
    "    SelectedPredictors=[]\n",
    "\n",
    "    for predictor in CategoricalVariablesList:\n",
    "        CrossTabResult=pd.crosstab(index=inpData[TargetVariable], columns=inpData[predictor])\n",
    "        ChiSqResult = chi2_contingency(CrossTabResult)\n",
    "        \n",
    "        # If the ChiSq P-Value is <0.05, that means we reject H0\n",
    "        if (ChiSqResult[1] < 0.05):\n",
    "            print(predictor, 'is correlated with', TargetVariable, '| P-Value:', ChiSqResult[1])\n",
    "            SelectedPredictors.append(predictor)\n",
    "        else:\n",
    "            print(predictor, 'is NOT correlated with', TargetVariable, '| P-Value:', ChiSqResult[1])        \n",
    "            \n",
    "    return(SelectedPredictors)"
   ]
  },
  {
   "cell_type": "code",
   "execution_count": 15,
   "id": "9a61869c",
   "metadata": {},
   "outputs": [
    {
     "name": "stdout",
     "output_type": "stream",
     "text": [
      "Ad_Topic is correlated with Clicked | P-Value: 1.2676573604736464e-24\n",
      "City_code is correlated with Clicked | P-Value: 2.6667953391697526e-88\n",
      "Male is correlated with Clicked | P-Value: 0.02695171301745074\n",
      "Time_Period is correlated with Clicked | P-Value: 4.465745015735695e-47\n",
      "Weekday is NOT correlated with Clicked | P-Value: 0.7226317326250824\n",
      "Month is NOT correlated with Clicked | P-Value: 0.4229049097263303\n"
     ]
    },
    {
     "data": {
      "text/plain": [
       "['Ad_Topic', 'City_code', 'Male', 'Time_Period']"
      ]
     },
     "execution_count": 15,
     "metadata": {},
     "output_type": "execute_result"
    }
   ],
   "source": [
    "CategoricalVariables=[\"Ad_Topic\",\"City_code\", \"Male\",\n",
    "                     \"Time_Period\", \"Weekday\",\"Month\"]\n",
    "\n",
    "# Calling the function\n",
    "FunctionChisq(inpData=AdClickData, \n",
    "              TargetVariable='Clicked',\n",
    "              CategoricalVariablesList= CategoricalVariables)"
   ]
  },
  {
   "cell_type": "code",
   "execution_count": null,
   "id": "712f7171",
   "metadata": {},
   "outputs": [],
   "source": [
    "\n"
   ]
  },
  {
   "cell_type": "markdown",
   "id": "2888ab3c",
   "metadata": {},
   "source": [
    "Based on the results of Chi-Square test, below categorical columns are selected as predictors for Machine Learning\n",
    "\n",
    "'Ad_Topic', 'City_code', 'Male', 'Time_Period'\n",
    "\n",
    "\n",
    "\n",
    "\n",
    "\n",
    "\n"
   ]
  },
  {
   "cell_type": "code",
   "execution_count": 16,
   "id": "7a05b6f1",
   "metadata": {},
   "outputs": [
    {
     "data": {
      "text/html": [
       "<div>\n",
       "<style scoped>\n",
       "    .dataframe tbody tr th:only-of-type {\n",
       "        vertical-align: middle;\n",
       "    }\n",
       "\n",
       "    .dataframe tbody tr th {\n",
       "        vertical-align: top;\n",
       "    }\n",
       "\n",
       "    .dataframe thead th {\n",
       "        text-align: right;\n",
       "    }\n",
       "</style>\n",
       "<table border=\"1\" class=\"dataframe\">\n",
       "  <thead>\n",
       "    <tr style=\"text-align: right;\">\n",
       "      <th></th>\n",
       "      <th>Time_Spent</th>\n",
       "      <th>Age</th>\n",
       "      <th>Avg_Income</th>\n",
       "      <th>Internet_Usage</th>\n",
       "      <th>Ad_Topic</th>\n",
       "      <th>City_code</th>\n",
       "      <th>Male</th>\n",
       "      <th>Time_Period</th>\n",
       "    </tr>\n",
       "  </thead>\n",
       "  <tbody>\n",
       "    <tr>\n",
       "      <th>0</th>\n",
       "      <td>87.97</td>\n",
       "      <td>43</td>\n",
       "      <td>55901.12</td>\n",
       "      <td>185.46</td>\n",
       "      <td>product_11</td>\n",
       "      <td>City_5</td>\n",
       "      <td>No</td>\n",
       "      <td>Mid-Night</td>\n",
       "    </tr>\n",
       "    <tr>\n",
       "      <th>1</th>\n",
       "      <td>51.63</td>\n",
       "      <td>50</td>\n",
       "      <td>39132.00</td>\n",
       "      <td>176.73</td>\n",
       "      <td>product_8</td>\n",
       "      <td>City_1</td>\n",
       "      <td>No</td>\n",
       "      <td>Evening</td>\n",
       "    </tr>\n",
       "    <tr>\n",
       "      <th>2</th>\n",
       "      <td>82.37</td>\n",
       "      <td>38</td>\n",
       "      <td>57032.36</td>\n",
       "      <td>210.60</td>\n",
       "      <td>product_6</td>\n",
       "      <td>City_2</td>\n",
       "      <td>No</td>\n",
       "      <td>Morning</td>\n",
       "    </tr>\n",
       "    <tr>\n",
       "      <th>3</th>\n",
       "      <td>62.06</td>\n",
       "      <td>45</td>\n",
       "      <td>48868.00</td>\n",
       "      <td>190.05</td>\n",
       "      <td>product_19</td>\n",
       "      <td>City_3</td>\n",
       "      <td>Yes</td>\n",
       "      <td>Morning</td>\n",
       "    </tr>\n",
       "    <tr>\n",
       "      <th>4</th>\n",
       "      <td>77.66</td>\n",
       "      <td>31</td>\n",
       "      <td>61608.23</td>\n",
       "      <td>204.86</td>\n",
       "      <td>product_11</td>\n",
       "      <td>City_2</td>\n",
       "      <td>No</td>\n",
       "      <td>Noon</td>\n",
       "    </tr>\n",
       "  </tbody>\n",
       "</table>\n",
       "</div>"
      ],
      "text/plain": [
       "   Time_Spent  Age  Avg_Income  Internet_Usage    Ad_Topic City_code Male  \\\n",
       "0       87.97   43    55901.12          185.46  product_11    City_5   No   \n",
       "1       51.63   50    39132.00          176.73   product_8    City_1   No   \n",
       "2       82.37   38    57032.36          210.60   product_6    City_2   No   \n",
       "3       62.06   45    48868.00          190.05  product_19    City_3  Yes   \n",
       "4       77.66   31    61608.23          204.86  product_11    City_2   No   \n",
       "\n",
       "  Time_Period  \n",
       "0   Mid-Night  \n",
       "1     Evening  \n",
       "2     Morning  \n",
       "3     Morning  \n",
       "4        Noon  "
      ]
     },
     "execution_count": 16,
     "metadata": {},
     "output_type": "execute_result"
    }
   ],
   "source": [
    "#selecting the final predictors\n",
    "SelectedColumns=[\"Time_Spent\", \"Age\", \"Avg_Income\", \"Internet_Usage\",\n",
    "                \"Ad_Topic\", \"City_code\", \"Male\", \"Time_Period\"]\n",
    "\n",
    "# Selecting final columns\n",
    "DataForML=AdClickData[SelectedColumns]\n",
    "DataForML.head()\n"
   ]
  },
  {
   "cell_type": "code",
   "execution_count": 17,
   "id": "1f9f6988",
   "metadata": {},
   "outputs": [],
   "source": [
    "#saving data in pkl file\n",
    "DataForML.to_pickle('DataForML.pkl')"
   ]
  },
  {
   "cell_type": "markdown",
   "id": "c4101fdc",
   "metadata": {},
   "source": [
    "**Data Preprocessing**\n",
    "\n",
    "converting the binary nominal variable to numeric using 1/0 mapping\n"
   ]
  },
  {
   "cell_type": "code",
   "execution_count": 18,
   "id": "0ca204d0",
   "metadata": {},
   "outputs": [
    {
     "data": {
      "text/html": [
       "<div>\n",
       "<style scoped>\n",
       "    .dataframe tbody tr th:only-of-type {\n",
       "        vertical-align: middle;\n",
       "    }\n",
       "\n",
       "    .dataframe tbody tr th {\n",
       "        vertical-align: top;\n",
       "    }\n",
       "\n",
       "    .dataframe thead th {\n",
       "        text-align: right;\n",
       "    }\n",
       "</style>\n",
       "<table border=\"1\" class=\"dataframe\">\n",
       "  <thead>\n",
       "    <tr style=\"text-align: right;\">\n",
       "      <th></th>\n",
       "      <th>Time_Spent</th>\n",
       "      <th>Age</th>\n",
       "      <th>Avg_Income</th>\n",
       "      <th>Internet_Usage</th>\n",
       "      <th>Ad_Topic</th>\n",
       "      <th>City_code</th>\n",
       "      <th>Male</th>\n",
       "      <th>Time_Period</th>\n",
       "    </tr>\n",
       "  </thead>\n",
       "  <tbody>\n",
       "    <tr>\n",
       "      <th>0</th>\n",
       "      <td>87.97</td>\n",
       "      <td>43</td>\n",
       "      <td>55901.12</td>\n",
       "      <td>185.46</td>\n",
       "      <td>product_11</td>\n",
       "      <td>City_5</td>\n",
       "      <td>0</td>\n",
       "      <td>Mid-Night</td>\n",
       "    </tr>\n",
       "    <tr>\n",
       "      <th>1</th>\n",
       "      <td>51.63</td>\n",
       "      <td>50</td>\n",
       "      <td>39132.00</td>\n",
       "      <td>176.73</td>\n",
       "      <td>product_8</td>\n",
       "      <td>City_1</td>\n",
       "      <td>0</td>\n",
       "      <td>Evening</td>\n",
       "    </tr>\n",
       "    <tr>\n",
       "      <th>2</th>\n",
       "      <td>82.37</td>\n",
       "      <td>38</td>\n",
       "      <td>57032.36</td>\n",
       "      <td>210.60</td>\n",
       "      <td>product_6</td>\n",
       "      <td>City_2</td>\n",
       "      <td>0</td>\n",
       "      <td>Morning</td>\n",
       "    </tr>\n",
       "    <tr>\n",
       "      <th>3</th>\n",
       "      <td>62.06</td>\n",
       "      <td>45</td>\n",
       "      <td>48868.00</td>\n",
       "      <td>190.05</td>\n",
       "      <td>product_19</td>\n",
       "      <td>City_3</td>\n",
       "      <td>1</td>\n",
       "      <td>Morning</td>\n",
       "    </tr>\n",
       "    <tr>\n",
       "      <th>4</th>\n",
       "      <td>77.66</td>\n",
       "      <td>31</td>\n",
       "      <td>61608.23</td>\n",
       "      <td>204.86</td>\n",
       "      <td>product_11</td>\n",
       "      <td>City_2</td>\n",
       "      <td>0</td>\n",
       "      <td>Noon</td>\n",
       "    </tr>\n",
       "  </tbody>\n",
       "</table>\n",
       "</div>"
      ],
      "text/plain": [
       "   Time_Spent  Age  Avg_Income  Internet_Usage    Ad_Topic City_code  Male  \\\n",
       "0       87.97   43    55901.12          185.46  product_11    City_5     0   \n",
       "1       51.63   50    39132.00          176.73   product_8    City_1     0   \n",
       "2       82.37   38    57032.36          210.60   product_6    City_2     0   \n",
       "3       62.06   45    48868.00          190.05  product_19    City_3     1   \n",
       "4       77.66   31    61608.23          204.86  product_11    City_2     0   \n",
       "\n",
       "  Time_Period  \n",
       "0   Mid-Night  \n",
       "1     Evening  \n",
       "2     Morning  \n",
       "3     Morning  \n",
       "4        Noon  "
      ]
     },
     "execution_count": 18,
     "metadata": {},
     "output_type": "execute_result"
    }
   ],
   "source": [
    "DataForML['Male'].replace({'Yes':1,'No':0},inplace=True)\n",
    "\n",
    "DataForML.head()"
   ]
  },
  {
   "cell_type": "markdown",
   "id": "3e26e7b0",
   "metadata": {},
   "source": [
    "**Splitting the data into test and train set\n"
   ]
  },
  {
   "cell_type": "code",
   "execution_count": 19,
   "id": "aa746fcd",
   "metadata": {},
   "outputs": [],
   "source": [
    "TargetVariable = 'Clicked'\n",
    "#Treating all the nominal variables at once using dummy variables\n",
    "DataForML_Numeric=pd.get_dummies(DataForML)\n",
    "\n",
    "# Adding Target Variable to the data\n",
    "DataForML_Numeric['Clicked']=AdClickData['Clicked']\n",
    "\n",
    "Predictors=['Time_Spent', 'Age', 'Avg_Income', 'Internet_Usage', 'Male',\n",
    "       'Ad_Topic_product_1', 'Ad_Topic_product_10', 'Ad_Topic_product_11',\n",
    "       'Ad_Topic_product_12', 'Ad_Topic_product_13', 'Ad_Topic_product_14',\n",
    "       'Ad_Topic_product_15', 'Ad_Topic_product_16', 'Ad_Topic_product_17',\n",
    "       'Ad_Topic_product_18', 'Ad_Topic_product_19', 'Ad_Topic_product_2',\n",
    "       'Ad_Topic_product_20', 'Ad_Topic_product_21', 'Ad_Topic_product_22',\n",
    "       'Ad_Topic_product_23', 'Ad_Topic_product_24', 'Ad_Topic_product_25',\n",
    "       'Ad_Topic_product_26', 'Ad_Topic_product_27', 'Ad_Topic_product_28',\n",
    "       'Ad_Topic_product_29', 'Ad_Topic_product_3', 'Ad_Topic_product_30',\n",
    "       'Ad_Topic_product_4', 'Ad_Topic_product_5', 'Ad_Topic_product_6',\n",
    "       'Ad_Topic_product_7', 'Ad_Topic_product_8', 'Ad_Topic_product_9',\n",
    "       'City_code_City_1', 'City_code_City_2', 'City_code_City_3',\n",
    "       'City_code_City_4', 'City_code_City_5', 'City_code_City_6',\n",
    "       'City_code_City_7', 'City_code_City_8', 'City_code_City_9',\n",
    "       'Time_Period_Early-Morning', 'Time_Period_Evening',\n",
    "       'Time_Period_Mid-Night', 'Time_Period_Morning', 'Time_Period_Night',\n",
    "       'Time_Period_Noon']\n"
   ]
  },
  {
   "cell_type": "code",
   "execution_count": 20,
   "id": "c50f90ec",
   "metadata": {},
   "outputs": [],
   "source": [
    "X = DataForML_Numeric[Predictors].values\n",
    "y = DataForML_Numeric[TargetVariable].values"
   ]
  },
  {
   "cell_type": "code",
   "execution_count": 21,
   "id": "9c52f864",
   "metadata": {},
   "outputs": [],
   "source": [
    "#splitting into test and train data\n",
    "from sklearn.model_selection import train_test_split\n",
    "X_train,X_test,y_train,y_test = train_test_split(X,y,test_size=0.3,random_state=428)"
   ]
  },
  {
   "cell_type": "markdown",
   "id": "ac2c76ec",
   "metadata": {},
   "source": [
    "***Normalisation of data***\n"
   ]
  },
  {
   "cell_type": "code",
   "execution_count": 22,
   "id": "323362c6",
   "metadata": {},
   "outputs": [
    {
     "name": "stdout",
     "output_type": "stream",
     "text": [
      "pickle file of Predictive Model Scaler is saved at Location: C:\\Users\\sanya\\Documents\n"
     ]
    }
   ],
   "source": [
    "from sklearn.preprocessing import StandardScaler,MinMaxScaler\n",
    "# On this data Min Max Normalization produced better results\n",
    "PredictorScaler = MinMaxScaler()\n",
    "PredictorScalerFit = PredictorScaler.fit(X)\n",
    "X = PredictorScalerFit.transform(X)\n",
    "\n",
    "#saving the normalization scaler\n",
    "import pickle\n",
    "import os\n",
    "with open('PredictorScaler.pkl','wb') as fileWriteStream:\n",
    "    pickle.dump(PredictorScaler,fileWriteStream)\n",
    "    fileWriteStream.close()\n",
    "    \n",
    "print('pickle file of Predictive Model Scaler is saved at Location:',os.getcwd())\n",
    "\n",
    "\n",
    "#splitting into test and train data\n",
    "from sklearn.model_selection import train_test_split\n",
    "X_train,X_test,y_train,y_test = train_test_split(X,y,test_size=0.3,random_state=428)"
   ]
  },
  {
   "cell_type": "code",
   "execution_count": 23,
   "id": "c00b7b98",
   "metadata": {},
   "outputs": [
    {
     "name": "stdout",
     "output_type": "stream",
     "text": [
      "(4659, 50)\n",
      "(4659,)\n",
      "(1998, 50)\n",
      "(1998,)\n"
     ]
    }
   ],
   "source": [
    "# Sanity check for the sampled data\n",
    "print(X_train.shape)\n",
    "print(y_train.shape)\n",
    "print(X_test.shape)\n",
    "print(y_test.shape)"
   ]
  },
  {
   "cell_type": "markdown",
   "id": "b0452a31",
   "metadata": {},
   "source": [
    "***TRAINING THE DATA WITH SVM***\n"
   ]
  },
  {
   "cell_type": "code",
   "execution_count": 24,
   "id": "852baf65",
   "metadata": {},
   "outputs": [
    {
     "name": "stdout",
     "output_type": "stream",
     "text": [
      "SVC(C=3, gamma=0.1)\n",
      "              precision    recall  f1-score   support\n",
      "\n",
      "           0       0.91      0.97      0.94      1097\n",
      "           1       0.97      0.88      0.92       901\n",
      "\n",
      "    accuracy                           0.93      1998\n",
      "   macro avg       0.94      0.93      0.93      1998\n",
      "weighted avg       0.93      0.93      0.93      1998\n",
      "\n",
      "[[1069   28]\n",
      " [ 111  790]]\n",
      "Accuracy of the model on Testing Sample Data: 0.93\n"
     ]
    }
   ],
   "source": [
    "from sklearn import svm\n",
    "clf = svm.SVC(C=3,kernel='rbf',gamma=0.1)\n",
    "\n",
    "print(clf)\n",
    "\n",
    "#creating the model on Training data\n",
    "SVM = clf.fit(X_train,y_train)\n",
    "prediction = SVM.predict(X_test)\n",
    "\n",
    "#measuring the accuracy\n",
    "from sklearn import metrics\n",
    "print(metrics.classification_report(y_test,prediction))\n",
    "print(metrics.confusion_matrix(y_test,prediction))\n",
    "\n",
    "#printing the overall accuracy \n",
    "F1_score = metrics.f1_score(y_test,prediction,average='weighted')\n",
    "print('Accuracy of the model on Testing Sample Data:', round(F1_score,2))\n",
    "\n"
   ]
  },
  {
   "cell_type": "markdown",
   "id": "cb6ed0d7",
   "metadata": {},
   "source": [
    "\n"
   ]
  },
  {
   "cell_type": "code",
   "execution_count": null,
   "id": "779cc225",
   "metadata": {},
   "outputs": [],
   "source": []
  },
  {
   "cell_type": "markdown",
   "id": "199a90d2",
   "metadata": {},
   "source": [
    "***Retraning the model with 100% data***\n"
   ]
  },
  {
   "cell_type": "code",
   "execution_count": 25,
   "id": "ba0eaf0c",
   "metadata": {},
   "outputs": [],
   "source": [
    "TargetVariable = 'Clicked'\n",
    "# Best predictors based on the multiple variable importance charts above\n",
    "Predictors=[\"Time_Spent\", \"Avg_Income\", \"Internet_Usage\"]\n",
    "\n",
    "X=DataForML_Numeric[Predictors].values\n",
    "y=DataForML_Numeric[TargetVariable].values\n"
   ]
  },
  {
   "cell_type": "code",
   "execution_count": 26,
   "id": "1c1b5072",
   "metadata": {},
   "outputs": [],
   "source": [
    "#SVM\n",
    "from sklearn import svm\n",
    "clf = svm.SVC(C=3,kernel='rbf',gamma=0.1)\n",
    "SVM = clf.fit(X,y)\n"
   ]
  },
  {
   "cell_type": "code",
   "execution_count": 27,
   "id": "90e26b1a",
   "metadata": {},
   "outputs": [
    {
     "name": "stdout",
     "output_type": "stream",
     "text": [
      "pickle file of Predictive Model is saved at Location: C:\\Users\\sanya\\Documents\n"
     ]
    }
   ],
   "source": [
    "#saving the model as pkl file\n",
    "import pickle\n",
    "import os\n",
    "with open('finalSVM.pkl','wb') as fileWriteStream:\n",
    "    pickle.dump(SVM,fileWriteStream)\n",
    "    fileWriteStream.close()\n",
    "    \n",
    "print('pickle file of Predictive Model is saved at Location:',os.getcwd())"
   ]
  },
  {
   "cell_type": "code",
   "execution_count": null,
   "id": "70fa83ec",
   "metadata": {},
   "outputs": [],
   "source": []
  },
  {
   "cell_type": "code",
   "execution_count": null,
   "id": "f8ef685e",
   "metadata": {},
   "outputs": [],
   "source": []
  }
 ],
 "metadata": {
  "kernelspec": {
   "display_name": "Python 3",
   "language": "python",
   "name": "python3"
  },
  "language_info": {
   "codemirror_mode": {
    "name": "ipython",
    "version": 3
   },
   "file_extension": ".py",
   "mimetype": "text/x-python",
   "name": "python",
   "nbconvert_exporter": "python",
   "pygments_lexer": "ipython3",
   "version": "3.8.8"
  }
 },
 "nbformat": 4,
 "nbformat_minor": 5
}
